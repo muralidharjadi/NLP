{
 "cells": [
  {
   "cell_type": "code",
   "execution_count": 1,
   "id": "9dbb46b0-d6f1-4fef-b98e-04cd083543a8",
   "metadata": {},
   "outputs": [],
   "source": [
    "#!pip install transformers -U\n",
    "#!pip install accelerate\n",
    "#!pip install huggingface_hub"
   ]
  },
  {
   "cell_type": "code",
   "execution_count": 2,
   "id": "318e01ad-d9a6-47ee-a619-0fb5a16e2c8a",
   "metadata": {},
   "outputs": [],
   "source": [
    "import torch\n",
    "from transformers import BertTokenizer, BertForSequenceClassification"
   ]
  },
  {
   "cell_type": "code",
   "execution_count": 3,
   "id": "572f569d-dd9b-4308-9def-fd36c710dc62",
   "metadata": {},
   "outputs": [],
   "source": [
    "tokenizer = BertTokenizer.from_pretrained('bert-base-uncased')"
   ]
  },
  {
   "cell_type": "code",
   "execution_count": 4,
   "id": "96bbc4b5-c42d-4d30-8fd2-ab7f7463bfb8",
   "metadata": {},
   "outputs": [],
   "source": [
    "model_2 = BertForSequenceClassification.from_pretrained(\"C:\\\\Users\\\\intel\\\\Projects\\\\NLP\\\\pradip\\\\custom_model\\\\Bert\")"
   ]
  },
  {
   "cell_type": "code",
   "execution_count": 5,
   "id": "696315bb-e3a7-44aa-bee0-b740762fa4ce",
   "metadata": {},
   "outputs": [
    {
     "data": {
      "text/plain": [
       "array([[0.80633926, 0.19366069]], dtype=float32)"
      ]
     },
     "execution_count": 5,
     "metadata": {},
     "output_type": "execute_result"
    }
   ],
   "source": [
    "#text = \"That was good point\"\n",
    "text = \"bad boy go to hell\"\n",
    "inputs = tokenizer(text,padding = True, truncation = True, return_tensors='pt')\n",
    "outputs = model_2(**inputs)\n",
    "predictions = torch.nn.functional.softmax(outputs.logits, dim=-1)\n",
    "predictions = predictions.cpu().detach().numpy()\n",
    "predictions"
   ]
  },
  {
   "cell_type": "code",
   "execution_count": 6,
   "id": "2b219b9f-bcd5-46eb-9c18-34589c684afc",
   "metadata": {},
   "outputs": [],
   "source": [
    "from huggingface_hub import notebook_login\n",
    "\n",
    "notebook_login()"
   ]
  },
  {
   "cell_type": "code",
   "execution_count": 1,
   "id": "4a0c0e4e-6a90-498b-a917-befd1c9691c6",
   "metadata": {},
   "outputs": [],
   "source": [
    "model.push_to_hub(\"muralidharjadi/FTFineTuneBert\")"
   ]
  },
  {
   "cell_type": "code",
   "execution_count": null,
   "id": "9ace0481-bbd6-4f70-bdd4-3621911e8607",
   "metadata": {},
   "outputs": [],
   "source": []
  }
 ],
 "metadata": {
  "kernelspec": {
   "display_name": "Python 3 (ipykernel)",
   "language": "python",
   "name": "python3"
  },
  "language_info": {
   "codemirror_mode": {
    "name": "ipython",
    "version": 3
   },
   "file_extension": ".py",
   "mimetype": "text/x-python",
   "name": "python",
   "nbconvert_exporter": "python",
   "pygments_lexer": "ipython3",
   "version": "3.11.7"
  }
 },
 "nbformat": 4,
 "nbformat_minor": 5
}
